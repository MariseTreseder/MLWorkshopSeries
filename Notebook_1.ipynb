{
  "nbformat": 4,
  "nbformat_minor": 0,
  "metadata": {
    "colab": {
      "name": "Notebook 1.ipynb",
      "version": "0.3.2",
      "provenance": [],
      "include_colab_link": true
    },
    "kernelspec": {
      "name": "python3",
      "display_name": "Python 3"
    }
  },
  "cells": [
    {
      "cell_type": "markdown",
      "metadata": {
        "id": "view-in-github",
        "colab_type": "text"
      },
      "source": [
        "[![Open In Colab](https://colab.research.google.com/assets/colab-badge.svg)](https://colab.research.google.com/github/Speichert/MLWorkshopSeries/blob/master/Notebook_1.ipynb)"
      ]
    },
    {
      "metadata": {
        "id": "2GLDAN99uSiS",
        "colab_type": "code",
        "colab": {}
      },
      "cell_type": "code",
      "source": [
        ""
      ],
      "execution_count": 0,
      "outputs": []
    },
    {
      "metadata": {
        "id": "XtagFVvrQ9Un",
        "colab_type": "text"
      },
      "cell_type": "markdown",
      "source": [
        "From Zero to Hero: Machine Learning Workshop Series 1"
      ]
    },
    {
      "metadata": {
        "id": "9N0y4DRwRKSc",
        "colab_type": "text"
      },
      "cell_type": "markdown",
      "source": [
        "Part 1: Linear Algebra Review\n"
      ]
    },
    {
      "metadata": {
        "id": "ZTOIsSvgRUZt",
        "colab_type": "text"
      },
      "cell_type": "markdown",
      "source": [
        "Matrices and Vectors: an overview"
      ]
    },
    {
      "metadata": {
        "id": "z25Vgo0bRgtj",
        "colab_type": "text"
      },
      "cell_type": "markdown",
      "source": [
        "FAZL : give overview, what is a vector/matrix, how are they represented mathematically?  Talk about dimensionality (e.g. this is a nxm matrix that means n rows and m columns... ) "
      ]
    },
    {
      "metadata": {
        "id": "Apu3uh1mSBcs",
        "colab_type": "text"
      },
      "cell_type": "markdown",
      "source": [
        ""
      ]
    },
    {
      "metadata": {
        "id": "O70nhEh5SC-P",
        "colab_type": "code",
        "colab": {}
      },
      "cell_type": "code",
      "source": [
        "# show how to represent vectors and matrices in Python\n",
        "\n",
        "import numpy as np\n",
        "\n",
        "#create vector\n",
        "\n",
        "#all zeros \n",
        "\n",
        "#from 1 to 10\n",
        "\n",
        "#change position 7 in the vector\n",
        "\n",
        "#create matrix\n",
        "\n",
        "# all 0s\n",
        "\n",
        "# with filled columns\n",
        "\n",
        "# random of fixed size\n",
        "\n",
        "# change an element"
      ],
      "execution_count": 0,
      "outputs": []
    },
    {
      "metadata": {
        "id": "9pFVG_WvTajI",
        "colab_type": "text"
      },
      "cell_type": "markdown",
      "source": [
        "Matrix Transformation\n"
      ]
    },
    {
      "metadata": {
        "id": "mLCEt5wHTfeX",
        "colab_type": "text"
      },
      "cell_type": "markdown",
      "source": [
        "FAZL: show how to transpose and inverse matrix and WHY its important"
      ]
    },
    {
      "metadata": {
        "id": "iUU_k3f0Trnq",
        "colab_type": "code",
        "colab": {}
      },
      "cell_type": "code",
      "source": [
        "# Matrix Transpose\n",
        "\n",
        "# Matrix Inverse"
      ],
      "execution_count": 0,
      "outputs": []
    },
    {
      "metadata": {
        "id": "3xXnG6ixU28I",
        "colab_type": "text"
      },
      "cell_type": "markdown",
      "source": [
        "Matrix Combinations"
      ]
    },
    {
      "metadata": {
        "id": "SwwQNsoPU812",
        "colab_type": "text"
      },
      "cell_type": "markdown",
      "source": [
        "Matrix Addition\n",
        "\n",
        "FAZL talk about a) vec to vec addition, b) vec to matrix, c)matrix to matrix, \n",
        "explain preconditions in terms of dimensionaltiy and other rules for addition"
      ]
    },
    {
      "metadata": {
        "id": "HF-RrsX1V3Tn",
        "colab_type": "code",
        "colab": {}
      },
      "cell_type": "code",
      "source": [
        "# vec and vec addition\n",
        "\n",
        "# matrix and matrix addition"
      ],
      "execution_count": 0,
      "outputs": []
    },
    {
      "metadata": {
        "id": "NKZlBqkLWfuh",
        "colab_type": "text"
      },
      "cell_type": "markdown",
      "source": [
        "Matrix Multiplication\n",
        "\n",
        "FAZL talk about a) vec to vec multiplication, b) vec to matrix, c)matrix to matrix, explain preconditions in terms of dimensionaltiy and other rules for multiplication\n",
        "\n"
      ]
    },
    {
      "metadata": {
        "id": "rxOrHrFaWsD7",
        "colab_type": "code",
        "colab": {}
      },
      "cell_type": "code",
      "source": [
        "# vec and vec multiplication\n",
        "\n",
        "# vec and matrix multiplication\n",
        "\n",
        "# matrix and vec multiplication\n",
        "\n",
        "# vec transposed and matrix multiplication\n",
        "\n",
        "# matrix and matrix multiplication"
      ],
      "execution_count": 0,
      "outputs": []
    },
    {
      "metadata": {
        "id": "ssSceL0HTz4u",
        "colab_type": "text"
      },
      "cell_type": "markdown",
      "source": [
        "Exercises\n",
        "\n",
        "STEF & FAZL create small exercises"
      ]
    },
    {
      "metadata": {
        "id": "vYTmdHrQXYP7",
        "colab_type": "code",
        "colab": {}
      },
      "cell_type": "code",
      "source": [
        "#Excercises"
      ],
      "execution_count": 0,
      "outputs": []
    },
    {
      "metadata": {
        "id": "3l-zjl23Xa2k",
        "colab_type": "text"
      },
      "cell_type": "markdown",
      "source": [
        "PART 2: Working with Data"
      ]
    },
    {
      "metadata": {
        "id": "8gNTFSWXXgea",
        "colab_type": "text"
      },
      "cell_type": "markdown",
      "source": [
        "Importing a Dataset: \n",
        "FAZL explain olympia dataset and input formats such as CSV"
      ]
    },
    {
      "metadata": {
        "id": "jS0Lc1PKX7Ip",
        "colab_type": "code",
        "colab": {}
      },
      "cell_type": "code",
      "source": [
        "import pandas as pd\n",
        "\n",
        "# import dataset "
      ],
      "execution_count": 0,
      "outputs": []
    },
    {
      "metadata": {
        "id": "JQDGb-QnYCCw",
        "colab_type": "text"
      },
      "cell_type": "markdown",
      "source": [
        "Extracting innitial information from a dataset, \n",
        "FAZL name some dataset statistic measures like mean etc\n",
        "\n",
        "\n",
        "\n"
      ]
    },
    {
      "metadata": {
        "id": "qKZNH8CzYS1I",
        "colab_type": "code",
        "colab": {}
      },
      "cell_type": "code",
      "source": [
        "# read header\n",
        "\n",
        "# read dataset stats, means etc\n",
        "\n"
      ],
      "execution_count": 0,
      "outputs": []
    },
    {
      "metadata": {
        "id": "ZCTvJEs-YiSZ",
        "colab_type": "text"
      },
      "cell_type": "markdown",
      "source": [
        "Visual Impressions"
      ]
    },
    {
      "metadata": {
        "id": "m82LQ5mIYb5z",
        "colab_type": "code",
        "colab": {}
      },
      "cell_type": "code",
      "source": [
        "# Histogram Analysis\n",
        "\n",
        "# Scatter Plot"
      ],
      "execution_count": 0,
      "outputs": []
    },
    {
      "metadata": {
        "id": "5tMICtYnYgjB",
        "colab_type": "text"
      },
      "cell_type": "markdown",
      "source": [
        "Preprocessing for algorithm:"
      ]
    },
    {
      "metadata": {
        "id": "APCFKBuObR6f",
        "colab_type": "text"
      },
      "cell_type": "markdown",
      "source": [
        "FAZL talk about split into train, text and validation set, what you need each set for and what overfitting and underfitting is,\n",
        "explain why we need to randomise the split"
      ]
    },
    {
      "metadata": {
        "id": "XWGxJ09nbPkv",
        "colab_type": "code",
        "colab": {}
      },
      "cell_type": "code",
      "source": [
        "#split data into train, val and test set\n",
        "\n"
      ],
      "execution_count": 0,
      "outputs": []
    },
    {
      "metadata": {
        "id": "hGiwJWNwuXHu",
        "colab_type": "text"
      },
      "cell_type": "markdown",
      "source": [
        "PART 3:  The first predictive algorithm: Linear Regression\n"
      ]
    },
    {
      "metadata": {
        "id": "M5Q8NnLQdrhT",
        "colab_type": "text"
      },
      "cell_type": "markdown",
      "source": [
        "FAZL high level overview of linear regression, give formula 1, then go on to show vectorisation, use https://www.inf.ed.ac.uk/teaching/courses/mlpr/2018/notes/w1b_linear_regression.html as a template but don't copy too much"
      ]
    },
    {
      "metadata": {
        "id": "xH_qddr3cEt_",
        "colab_type": "code",
        "colab": {}
      },
      "cell_type": "code",
      "source": [
        "# show initialisation of weights and how to implement formula"
      ],
      "execution_count": 0,
      "outputs": []
    },
    {
      "metadata": {
        "id": "XLQLkWM1euqK",
        "colab_type": "text"
      },
      "cell_type": "markdown",
      "source": [
        "Loss function\n",
        "\n",
        "Describe what a loss/cost function is what the general use is and what it means (motivation coul go somewhat like this: need to find optimal weights so we need to define what is optimal this is where the cost function comes in)\n",
        "\n",
        "Describe least squares as a loss function for linear regression.\n",
        "\n",
        "Link to textbook like Murphy that talks about cost functions."
      ]
    },
    {
      "metadata": {
        "id": "CUkG-nbjfdvd",
        "colab_type": "code",
        "colab": {}
      },
      "cell_type": "code",
      "source": [
        "#implement least squares solution"
      ],
      "execution_count": 0,
      "outputs": []
    },
    {
      "metadata": {
        "id": "T_2VGixXf2Rj",
        "colab_type": "text"
      },
      "cell_type": "markdown",
      "source": [
        "Test on test set and automate procedure by python function"
      ]
    },
    {
      "metadata": {
        "id": "u31l_670fkgC",
        "colab_type": "code",
        "colab": {}
      },
      "cell_type": "code",
      "source": [
        "#Automation\n",
        "\n",
        "#show sklearn version"
      ],
      "execution_count": 0,
      "outputs": []
    }
  ]
}