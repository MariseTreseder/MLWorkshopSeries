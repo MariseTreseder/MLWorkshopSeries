{
 "cells": [
  {
   "cell_type": "code",
   "execution_count": 330,
   "metadata": {
    "collapsed": true
   },
   "outputs": [],
   "source": [
    "import numpy as np\n",
    "N = 100\n",
    "x = np.sort(10*np.random.rand(N,1), axis=0)\n",
    "t = 3*x**2+ x +5\n",
    "N_test = 200\n",
    "x_test = np.linspace(0,10,N_test)[:,None]\n",
    "t_test =  3*x_test**2 + x_test + 5 \n",
    "\n",
    "#add noise to the signal:\n",
    "noise = np.random.normal(0,30,x.shape)\n",
    "noise_test= np.random.normal(0,30,x_test.shape)\n",
    "\n",
    "t=t+noise\n",
    "t_test= t_test+noise_test"
   ]
  },
  {
   "cell_type": "code",
   "execution_count": 331,
   "metadata": {},
   "outputs": [
    {
     "data": {
      "image/png": "[encoded data removed]",
      "text/plain": [
       "<matplotlib.figure.Figure at 0x1398e310>"
      ]
     },
     "metadata": {},
     "output_type": "display_data"
    },
    {
     "data": {
      "image/png": "[encoded data removed]",
      "text/plain": [
       "<matplotlib.figure.Figure at 0x14fda250>"
      ]
     },
     "metadata": {},
     "output_type": "display_data"
    }
   ],
   "source": [
    "#plt.plot(x,y,'k')\n",
    "import matplotlib.pyplot as plt\n",
    "plt.plot(x,t,'ro')\n",
    "plt.show()\n",
    "plt.plot(x_test,t_test,'ro')\n",
    "plt.show()"
   ]
  },
  {
   "cell_type": "markdown",
   "metadata": {},
   "source": [
    "We can now fit a linear model as learned in the last session for this data: "
   ]
  },
  {
   "cell_type": "markdown",
   "metadata": {},
   "source": [
    "# Using a Python Package"
   ]
  },
  {
   "cell_type": "code",
   "execution_count": 332,
   "metadata": {},
   "outputs": [
    {
     "name": "stdout",
     "output_type": "stream",
     "text": [
      "[-49.9378405] [[31.0031687]]\n"
     ]
    }
   ],
   "source": [
    "from sklearn.linear_model import LinearRegression\n",
    "\n",
    "#implement linear regression\n",
    "lm = LinearRegression()\n",
    "lm.fit(x,t)\n",
    "bias=lm.intercept_\n",
    "weights=lm.coef_\n",
    "print(bias,weights)"
   ]
  },
  {
   "cell_type": "markdown",
   "metadata": {},
   "source": [
    "# Numerically:"
   ]
  },
  {
   "cell_type": "markdown",
   "metadata": {},
   "source": [
    "We currently have $X$ and $y$  and want to calculate\n",
    "$ y = f(x;w)=w_0 + w_1*x $ (read: $y$ is approximated by ... )"
   ]
  },
  {
   "cell_type": "markdown",
   "metadata": {},
   "source": [
    "$w_0$ is often also referred to as bias or intercept $b$. That is because it determines the *intercept of the approximated line with the y-axis*."
   ]
  },
  {
   "cell_type": "markdown",
   "metadata": {},
   "source": [
    "If we ignore the bias, for simplicity, we can calculate our linear regression as follows:"
   ]
  },
  {
   "cell_type": "code",
   "execution_count": 333,
   "metadata": {},
   "outputs": [
    {
     "name": "stdout",
     "output_type": "stream",
     "text": [
      "[[23.58849762]]\n"
     ]
    },
    {
     "name": "stderr",
     "output_type": "stream",
     "text": [
      "c:\\users\\steffi\\appdata\\local\\programs\\python\\python36-32\\lib\\site-packages\\ipykernel_launcher.py:1: FutureWarning: `rcond` parameter will change to the default of machine precision times ``max(M, N)`` where M and N are the input matrix dimensions.\n",
      "To use the future default and silence this warning we advise to pass `rcond=None`, to keep using the old, explicitly pass `rcond=-1`.\n",
      "  \"\"\"Entry point for launching an IPython kernel.\n"
     ]
    }
   ],
   "source": [
    "w_fit = np.linalg.lstsq(x, t)[0]\n",
    "print(w_fit)"
   ]
  },
  {
   "cell_type": "markdown",
   "metadata": {},
   "source": [
    "If we now want to include the bias term we simply add a column of ones:"
   ]
  },
  {
   "cell_type": "code",
   "execution_count": 334,
   "metadata": {},
   "outputs": [
    {
     "name": "stdout",
     "output_type": "stream",
     "text": [
      "[[1.         0.20407079]\n",
      " [1.         0.24112294]\n",
      " [1.         0.35715104]\n",
      " [1.         0.58051303]\n",
      " [1.         0.59336538]]\n"
     ]
    }
   ],
   "source": [
    "x_with_bias= np.concatenate([np.ones((x.shape[0],1)), x], axis=1)\n",
    "print(x_with_bias[0:5,:])"
   ]
  },
  {
   "cell_type": "markdown",
   "metadata": {},
   "source": [
    "This works because mathematically we can express our model as:"
   ]
  },
  {
   "cell_type": "markdown",
   "metadata": {},
   "source": [
    "$$ f(\\boldsymbol{x^{(i)}}; \\boldsymbol{w})= w_0*x^i_0 + w_1*x^{(i)}_1 = w_0*1 + w_1*x^{(i)}_1 = \\boldsymbol{w^T} \\cdot  \\boldsymbol{x^{(i)}} $$"
   ]
  },
  {
   "cell_type": "markdown",
   "metadata": {},
   "source": [
    "$$ f(\\boldsymbol{X'};\\boldsymbol{w})= \\boldsymbol{X'}\\boldsymbol{w} $$"
   ]
  },
  {
   "cell_type": "markdown",
   "metadata": {},
   "source": [
    "We can now fit our model without having to use scikit learn!"
   ]
  },
  {
   "cell_type": "code",
   "execution_count": 335,
   "metadata": {},
   "outputs": [
    {
     "name": "stdout",
     "output_type": "stream",
     "text": [
      "[[-49.9378405]\n",
      " [ 31.0031687]]\n"
     ]
    },
    {
     "name": "stderr",
     "output_type": "stream",
     "text": [
      "c:\\users\\steffi\\appdata\\local\\programs\\python\\python36-32\\lib\\site-packages\\ipykernel_launcher.py:1: FutureWarning: `rcond` parameter will change to the default of machine precision times ``max(M, N)`` where M and N are the input matrix dimensions.\n",
      "To use the future default and silence this warning we advise to pass `rcond=None`, to keep using the old, explicitly pass `rcond=-1`.\n",
      "  \"\"\"Entry point for launching an IPython kernel.\n"
     ]
    }
   ],
   "source": [
    "w_fit_with_bias = np.linalg.lstsq(x_with_bias, t)[0]\n",
    "print(w_fit_with_bias)"
   ]
  },
  {
   "cell_type": "markdown",
   "metadata": {},
   "source": [
    "This are exactly the numbers that we calculated earlier!"
   ]
  },
  {
   "cell_type": "markdown",
   "metadata": {},
   "source": [
    "# Testing on a Testset"
   ]
  },
  {
   "cell_type": "markdown",
   "metadata": {},
   "source": [
    "Given these bias and weight terms we can now calculate the \"line\" for the test data:"
   ]
  },
  {
   "cell_type": "code",
   "execution_count": 336,
   "metadata": {},
   "outputs": [
    {
     "data": {
      "image/png": "[encoded data removed]",
      "text/plain": [
       "<matplotlib.figure.Figure at 0x13994a70>"
      ]
     },
     "metadata": {},
     "output_type": "display_data"
    },
    {
     "data": {
      "image/png": "[encoded data removed]",
      "text/plain": [
       "<matplotlib.figure.Figure at 0x122aa5d0>"
      ]
     },
     "metadata": {},
     "output_type": "display_data"
    }
   ],
   "source": [
    "line= bias+weights[0]*x_test\n",
    "plt.plot(x_test,line,'b-',linewidth=2)\n",
    "plt.plot(x_test,t_test,'ro')\n",
    "plt.show()\n",
    "\n",
    "line_no_bias_numeric= w_fit*x_test\n",
    "plt.plot(x_test,line_no_bias_numeric,'b-',linewidth=2)\n",
    "plt.plot(x_test,t_test,'ro')\n",
    "plt.show()\n"
   ]
  },
  {
   "cell_type": "markdown",
   "metadata": {},
   "source": [
    "Observation: Using a bias term (the first figure) results in a better fit. However, overall, the linear model doesn't fit our data very well!"
   ]
  },
  {
   "cell_type": "markdown",
   "metadata": {},
   "source": [
    "# Part 2: Non- Linear Linear Regression !"
   ]
  },
  {
   "cell_type": "markdown",
   "metadata": {},
   "source": [
    "Linear Regression is a very simple classifier. So far we have seen how to  fit a straight line to our input data. \n",
    "However what if we want to fit a more advanced function, say a polynomial function to the data?"
   ]
  },
  {
   "cell_type": "markdown",
   "metadata": {},
   "source": [
    "## Polynomial Linear Regression"
   ]
  },
  {
   "cell_type": "markdown",
   "metadata": {},
   "source": [
    "Remember the generic form of a single-variable polynomial:"
   ]
  },
  {
   "cell_type": "markdown",
   "metadata": {},
   "source": [
    "$$ a_0*1 + a_1*x + a_2 * x^2 + ... + a_k * x^k  $$"
   ]
  },
  {
   "cell_type": "markdown",
   "metadata": {},
   "source": [
    "Observation: we already know how to express the first 2 terms ($a_0 *1 + a_1 *x$)!"
   ]
  },
  {
   "cell_type": "markdown",
   "metadata": {},
   "source": [
    "$$\\boldsymbol{X}'\\boldsymbol{a}$$"
   ]
  },
  {
   "cell_type": "markdown",
   "metadata": {},
   "source": [
    "We gained this by adding a column of 1's to X such that we could fit the weights.  "
   ]
  },
  {
   "cell_type": "markdown",
   "metadata": {},
   "source": [
    "In general we can change (*pertubate*) the inputs to accomodate for more difficult functions!"
   ]
  },
  {
   "cell_type": "markdown",
   "metadata": {},
   "source": [
    "For the polynomials we, therefore, only have to add more columns that represent each polynomial and then use linear regression to figure out the weights:"
   ]
  },
  {
   "cell_type": "markdown",
   "metadata": {},
   "source": [
    "$$X' = \\begin{bmatrix}\n",
    "    1       & x_{1} & x_{1}^2 & \\dots & x_{1}^k \\\\\n",
    "    1       & x_{2} & x_{2}^2 & \\dots & x_{2}^k \\\\\n",
    "    \\dots \\\\\n",
    "   1       & x_{n} & x_{n}^2 & \\dots & x_{n}^k\n",
    "\\end{bmatrix} $$"
   ]
  },
  {
   "cell_type": "code",
   "execution_count": 337,
   "metadata": {
    "collapsed": true
   },
   "outputs": [],
   "source": [
    "#Creating the polynomial matrix up to order 10:\n",
    "matrix = np.ones((len(x),11))\n",
    "for row in range(len(matrix)):\n",
    "    cur_x=x[row]\n",
    "    for col in range(len(matrix[0])):\n",
    "        matrix[row,col]=cur_x**col"
   ]
  },
  {
   "cell_type": "markdown",
   "metadata": {},
   "source": [
    "With this, we can now fit a linear model to predict a curve!"
   ]
  },
  {
   "cell_type": "code",
   "execution_count": 338,
   "metadata": {},
   "outputs": [
    {
     "name": "stdout",
     "output_type": "stream",
     "text": [
      "[[ 8.71912754]\n",
      " [-0.93582857]\n",
      " [ 3.07417027]]\n",
      "[[ 5.48769888e+01]\n",
      " [-1.81812013e+02]\n",
      " [ 1.75422954e+02]\n",
      " [-6.67557077e+01]\n",
      " [ 1.22479691e+01]\n",
      " [-1.06260560e+00]\n",
      " [ 3.51069299e-02]]\n"
     ]
    },
    {
     "name": "stderr",
     "output_type": "stream",
     "text": [
      "c:\\users\\steffi\\appdata\\local\\programs\\python\\python36-32\\lib\\site-packages\\ipykernel_launcher.py:2: FutureWarning: `rcond` parameter will change to the default of machine precision times ``max(M, N)`` where M and N are the input matrix dimensions.\n",
      "To use the future default and silence this warning we advise to pass `rcond=None`, to keep using the old, explicitly pass `rcond=-1`.\n",
      "  \n",
      "c:\\users\\steffi\\appdata\\local\\programs\\python\\python36-32\\lib\\site-packages\\ipykernel_launcher.py:5: FutureWarning: `rcond` parameter will change to the default of machine precision times ``max(M, N)`` where M and N are the input matrix dimensions.\n",
      "To use the future default and silence this warning we advise to pass `rcond=None`, to keep using the old, explicitly pass `rcond=-1`.\n",
      "  \"\"\"\n"
     ]
    }
   ],
   "source": [
    "# second order polynomial:\n",
    "w_fit_2nd_order = np.linalg.lstsq(matrix[:,0:3], t)[0]\n",
    "print(w_fit_2nd_order)\n",
    "#6th order polynomial\n",
    "w_fit_6th_order = np.linalg.lstsq(matrix[:,0:7], t)[0]\n",
    "print(w_fit_6th_order)"
   ]
  },
  {
   "cell_type": "code",
   "execution_count": 339,
   "metadata": {},
   "outputs": [
    {
     "name": "stdout",
     "output_type": "stream",
     "text": [
      "[[1.         0.         0.        ]\n",
      " [1.         0.05025126 0.00252519]\n",
      " [1.         0.10050251 0.01010076]\n",
      " [1.         0.15075377 0.0227267 ]\n",
      " [1.         0.20100503 0.04040302]]\n"
     ]
    }
   ],
   "source": [
    "#prepare test data\n",
    "X_test= np.ones((len(x_test),2))\n",
    "for row in range(len(x_test)):\n",
    "    for col in range(len(X_test[0])):\n",
    "        X_test[row,col]=x_test[row]**col\n",
    "X_test_matrix_2nd_order=np.ones((len(x_test),3))\n",
    "for row in range(len(x_test)):\n",
    "    for col in range(len(X_test_matrix_2nd_order[0])):\n",
    "        X_test_matrix_2nd_order[row,col]=x_test[row]**col\n",
    "X_test_matrix_6th_order=np.ones((len(x_test),7))\n",
    "for row in range(len(x_test)):\n",
    "    for col in range(len(X_test_matrix_6th_order[0])):\n",
    "        X_test_matrix_6th_order[row,col]=x_test[row]**col\n",
    "print(X_test_matrix_2nd_order[0:5,:])"
   ]
  },
  {
   "cell_type": "code",
   "execution_count": 340,
   "metadata": {},
   "outputs": [
    {
     "data": {
      "image/png": "[encoded data removed]",
      "text/plain": [
       "<matplotlib.figure.Figure at 0x13968c50>"
      ]
     },
     "metadata": {},
     "output_type": "display_data"
    }
   ],
   "source": [
    "#show the fit\n",
    "line= np.dot(X_test_matrix_2nd_order,w_fit_2nd_order)\n",
    "plt.plot(x_test,line,'b-',linewidth=2)\n",
    "plt.plot(x_test,t_test,'ro')\n",
    "plt.show()"
   ]
  },
  {
   "cell_type": "code",
   "execution_count": 341,
   "metadata": {},
   "outputs": [
    {
     "data": {
      "image/png": "[encoded data removed]",
      "text/plain": [
       "<matplotlib.figure.Figure at 0x13960e50>"
      ]
     },
     "metadata": {},
     "output_type": "display_data"
    }
   ],
   "source": [
    "#show the fit\n",
    "line= np.dot(X_test_matrix_6th_order,w_fit_6th_order)\n",
    "plt.plot(x_test,line,'b-',linewidth=2)\n",
    "plt.plot(x_test,t_test,'ro')\n",
    "plt.show()"
   ]
  },
  {
   "cell_type": "markdown",
   "metadata": {},
   "source": [
    "We now have three different models to fit our data: the linear, the second order and the 6th order polynomial. But which one is the best?"
   ]
  },
  {
   "cell_type": "markdown",
   "metadata": {},
   "source": [
    "# Part 2: The Validation Set in Action: Find the most general fit"
   ]
  },
  {
   "cell_type": "markdown",
   "metadata": {},
   "source": [
    "For this case we have the *validation set*. As we said last time, the validation set is here to test any parameters of our model."
   ]
  },
  {
   "cell_type": "markdown",
   "metadata": {},
   "source": [
    "In this case the parameter is the *order of the polynomial*."
   ]
  },
  {
   "cell_type": "markdown",
   "metadata": {},
   "source": [
    "## The Loss Function as Generalisation Metric"
   ]
  },
  {
   "cell_type": "markdown",
   "metadata": {},
   "source": [
    "First, we need some common evaluation metric. Last week we had looked at the *Least Square Loss Function*. For one data point this can be calculated as:"
   ]
  },
  {
   "cell_type": "markdown",
   "metadata": {},
   "source": [
    "$$ \\mathbf{L_n}(y_n,f(x_n; w_0,w_1)) = (y_n - f(x_n; w_0,w_1))^2 $$"
   ]
  },
  {
   "cell_type": "markdown",
   "metadata": {},
   "source": [
    "That is, the squared difference between the predicted and the actual data point. "
   ]
  },
  {
   "cell_type": "markdown",
   "metadata": {},
   "source": [
    "For the whole dataset, we calculate this distance for each data point, sum it and then *average* over it: "
   ]
  },
  {
   "cell_type": "markdown",
   "metadata": {},
   "source": [
    "$$ \\mathbf{L} = \\frac{1}{N} \\sum_{n=1}^N \\mathbf{L_n}(y_n,f(x_n; w_0,w_1)) $$"
   ]
  },
  {
   "cell_type": "markdown",
   "metadata": {},
   "source": [
    "We can calculate this loss for our training and test data given the different fits for our problem:"
   ]
  },
  {
   "cell_type": "code",
   "execution_count": 342,
   "metadata": {
    "collapsed": true
   },
   "outputs": [],
   "source": [
    "def calcLoss(y,X,W):\n",
    "    N=len(y)\n",
    "    mult=X@W\n",
    "    #print(mult)\n",
    "    loss= np.transpose(y-X@W) @ (y-X@W)\n",
    "    avg_loss= 1 / N *loss\n",
    "    return avg_loss\n",
    "    "
   ]
  },
  {
   "cell_type": "code",
   "execution_count": 343,
   "metadata": {},
   "outputs": [
    {
     "name": "stdout",
     "output_type": "stream",
     "text": [
      "[[1348.78589534]]\n",
      "[[871.66853418]]\n",
      "[[760.31107784]]\n"
     ]
    }
   ],
   "source": [
    "#calc train loss\n",
    "train_loss_linear= calcLoss(t,matrix[:,0:2],w_fit_with_bias)\n",
    "print(train_loss_linear)\n",
    "train_loss_2ndOrder= calcLoss(t,matrix[:,0:3],w_fit_2nd_order)\n",
    "print(train_loss_2ndOrder)\n",
    "train_loss_6thOrder= calcLoss(t,matrix[:,0:7],w_fit_6th_order)\n",
    "print(train_loss_6thOrder)\n"
   ]
  },
  {
   "cell_type": "code",
   "execution_count": 344,
   "metadata": {},
   "outputs": [
    {
     "name": "stdout",
     "output_type": "stream",
     "text": [
      "[[1220.40085941]]\n",
      "[[810.32050224]]\n",
      "[[958.40310479]]\n"
     ]
    }
   ],
   "source": [
    "#calc train loss\n",
    "test_loss_linear= calcLoss(t_test,X_test,w_fit_with_bias)\n",
    "print(test_loss_linear)\n",
    "test_loss_2ndOrder= calcLoss(t_test,X_test_matrix_2nd_order,w_fit_2nd_order)\n",
    "print(test_loss_2ndOrder)\n",
    "test_loss_6thOrder= calcLoss(t_test,X_test_matrix_6th_order,w_fit_6th_order)\n",
    "print(test_loss_6thOrder)"
   ]
  },
  {
   "cell_type": "markdown",
   "metadata": {},
   "source": [
    "This implementation uses the vectorised version of the loss function: "
   ]
  },
  {
   "cell_type": "markdown",
   "metadata": {},
   "source": [
    "$$ \\mathbf{L} = \\frac{1}{N} (y-Xw)^T(y-Xw) $$"
   ]
  },
  {
   "cell_type": "markdown",
   "metadata": {},
   "source": [
    "You can find a step by step solution as to how one derives the function to land at this solution in multiple online blogs or books such as *A first course in Machine Learning* , page TODO"
   ]
  },
  {
   "cell_type": "markdown",
   "metadata": {},
   "source": [
    "## Making use of the validation set"
   ]
  },
  {
   "cell_type": "markdown",
   "metadata": {},
   "source": [
    "We can see now that had we chosen the 6th order polynomial because it has the smallest training error we would not have generalised well."
   ]
  },
  {
   "cell_type": "markdown",
   "metadata": {},
   "source": [
    "However, as the test set should always only looked at **ONCE** at the end of training we don't have  a chance to go back and select a different model as that would mean that we are fitting to the test set. "
   ]
  },
  {
   "cell_type": "markdown",
   "metadata": {},
   "source": [
    "For this purpose we use a validation set in Machine Learning Applications. It tests the parameters of our model. "
   ]
  },
  {
   "cell_type": "markdown",
   "metadata": {},
   "source": [
    "In our case, this means that we should have a validation set that tests which order for the polynomial is the best fit:"
   ]
  },
  {
   "cell_type": "code",
   "execution_count": 345,
   "metadata": {
    "collapsed": true
   },
   "outputs": [],
   "source": [
    "#build initial data\n",
    "x_val=np.sort(10*np.random.rand(100,1), axis=0)\n",
    "t_val= 3*x_val**2 + x_val + 5 \n",
    "val_noise=np.random.normal(0,30,x_val.shape)\n",
    "t_val=t_val+val_noise"
   ]
  },
  {
   "cell_type": "code",
   "execution_count": 346,
   "metadata": {},
   "outputs": [
    {
     "data": {
      "image/png": "[encoded data removed]",
      "text/plain": [
       "<matplotlib.figure.Figure at 0x1397e3b0>"
      ]
     },
     "metadata": {},
     "output_type": "display_data"
    }
   ],
   "source": [
    "\n",
    "plt.plot(x_val,t_val,'ro')\n",
    "\n",
    "plt.show()"
   ]
  },
  {
   "cell_type": "code",
   "execution_count": 347,
   "metadata": {},
   "outputs": [
    {
     "name": "stdout",
     "output_type": "stream",
     "text": [
      "[0.17857803] 1.0 0\n",
      "[0.17857803] 0.17857803110167159 1\n",
      "[0.17857803] 0.031890113192149586 2\n",
      "[0.17857803] 0.005694873625463516 3\n",
      "[0.17857803] 0.001016979319408113 4\n",
      "[0.17857803] 0.0001816101645310188 5\n",
      "[0.17857803] 3.243158560999997e-05 6\n"
     ]
    }
   ],
   "source": [
    "#build bias and poly matrix:\n",
    "poly_matrix_val= np.ones((len(x_val), 7))\n",
    "for i in range(len(x_val)):\n",
    "    for j in range(7):\n",
    "        poly_matrix_val[i,j]=x_val[i]**j\n",
    "        if i==1:\n",
    "            print(x_val[i],poly_matrix_val[i,j],j)\n",
    "        "
   ]
  },
  {
   "cell_type": "code",
   "execution_count": 348,
   "metadata": {},
   "outputs": [
    {
     "name": "stderr",
     "output_type": "stream",
     "text": [
      "c:\\users\\steffi\\appdata\\local\\programs\\python\\python36-32\\lib\\site-packages\\ipykernel_launcher.py:4: FutureWarning: `rcond` parameter will change to the default of machine precision times ``max(M, N)`` where M and N are the input matrix dimensions.\n",
      "To use the future default and silence this warning we advise to pass `rcond=None`, to keep using the old, explicitly pass `rcond=-1`.\n",
      "  after removing the cwd from sys.path.\n",
      "c:\\users\\steffi\\appdata\\local\\programs\\python\\python36-32\\lib\\site-packages\\ipykernel_launcher.py:7: FutureWarning: `rcond` parameter will change to the default of machine precision times ``max(M, N)`` where M and N are the input matrix dimensions.\n",
      "To use the future default and silence this warning we advise to pass `rcond=None`, to keep using the old, explicitly pass `rcond=-1`.\n",
      "  import sys\n",
      "c:\\users\\steffi\\appdata\\local\\programs\\python\\python36-32\\lib\\site-packages\\ipykernel_launcher.py:10: FutureWarning: `rcond` parameter will change to the default of machine precision times ``max(M, N)`` where M and N are the input matrix dimensions.\n",
      "To use the future default and silence this warning we advise to pass `rcond=None`, to keep using the old, explicitly pass `rcond=-1`.\n",
      "  # Remove the CWD from sys.path while we load stuff.\n"
     ]
    }
   ],
   "source": [
    "#train linear regression for each polynomial order\n",
    "\n",
    "#3rd Order\n",
    "w_fit_3rd_Order=np.linalg.lstsq(matrix[:,0:4], t)[0]\n",
    "\n",
    "#4th Order\n",
    "w_fit_4th_Order=np.linalg.lstsq(matrix[:,0:5], t)[0]\n",
    "\n",
    "#5th Order\n",
    "w_fit_5th_Order=np.linalg.lstsq(matrix[:,0:6], t)[0]\n",
    "\n"
   ]
  },
  {
   "cell_type": "code",
   "execution_count": null,
   "metadata": {
    "collapsed": true
   },
   "outputs": [],
   "source": []
  },
  {
   "cell_type": "code",
   "execution_count": 349,
   "metadata": {
    "collapsed": true
   },
   "outputs": [],
   "source": [
    "# calculate the Loss on the validation set\n",
    "\n",
    "#linear\n",
    "val_loss_linear = calcLoss(t_val,poly_matrix_val[:,0:2],w_fit_with_bias)\n",
    "\n",
    "#2nd order\n",
    "val_loss_2nd_Order = calcLoss(t_val,poly_matrix_val[:,0:3],w_fit_2nd_order)\n",
    "\n",
    "#3rd order\n",
    "val_loss_3rd_Order = calcLoss(t_val,poly_matrix_val[:,0:4],w_fit_3rd_Order)\n",
    "\n",
    "#4th order\n",
    "val_loss_4th_Order = calcLoss(t_val,poly_matrix_val[:,0:5],w_fit_4th_Order)\n",
    "\n",
    "#5th order\n",
    "val_loss_5th_Order = calcLoss(t_val,poly_matrix_val[:,0:6],w_fit_5th_Order)\n",
    "\n",
    "#6th order\n",
    "val_loss_6th_Order = calcLoss(t_val,poly_matrix_val,w_fit_6th_order)"
   ]
  },
  {
   "cell_type": "code",
   "execution_count": 350,
   "metadata": {
    "collapsed": true
   },
   "outputs": [],
   "source": [
    "# plot the loss\n",
    "y_axis= np.array([val_loss_linear[0],val_loss_2nd_Order[0],val_loss_3rd_Order[0],val_loss_4th_Order[0],val_loss_5th_Order[0],val_loss_6th_Order[0]]).ravel()\n",
    "x_axis=[1,2,3,4,5,6]"
   ]
  },
  {
   "cell_type": "code",
   "execution_count": 351,
   "metadata": {},
   "outputs": [
    {
     "data": {
      "text/plain": [
       "array([1234.49758076,  876.65775585,  900.28635667,  898.56738714,\n",
       "        896.70401722,  961.31503868])"
      ]
     },
     "execution_count": 351,
     "metadata": {},
     "output_type": "execute_result"
    }
   ],
   "source": [
    "y_axis"
   ]
  },
  {
   "cell_type": "code",
   "execution_count": 352,
   "metadata": {},
   "outputs": [
    {
     "data": {
      "image/png": "[encoded data removed]",
      "text/plain": [
       "<matplotlib.figure.Figure at 0x14b54970>"
      ]
     },
     "metadata": {},
     "output_type": "display_data"
    }
   ],
   "source": [
    "plt.plot(x_axis,y_axis,'b-',linewidth=2)\n",
    "\n",
    "plt.show()"
   ]
  },
  {
   "cell_type": "markdown",
   "metadata": {},
   "source": [
    "Given this graph, we can now determine that a second order polynomial is the best fit for our data!"
   ]
  },
  {
   "cell_type": "code",
   "execution_count": 353,
   "metadata": {},
   "outputs": [
    {
     "data": {
      "text/plain": [
       "(100, 7)"
      ]
     },
     "execution_count": 353,
     "metadata": {},
     "output_type": "execute_result"
    }
   ],
   "source": [
    "poly_matrix_val.shape"
   ]
  },
  {
   "cell_type": "code",
   "execution_count": 354,
   "metadata": {},
   "outputs": [
    {
     "name": "stdout",
     "output_type": "stream",
     "text": [
      "(100, 7)\n",
      "(7, 1)\n",
      "(100, 1)\n",
      "(100, 1)\n"
     ]
    }
   ],
   "source": [
    "print(poly_matrix_val[:,0:7].shape)\n",
    "print(w_fit_6th_order.shape)\n",
    "\n",
    "print(np.dot(poly_matrix_val[:,0:7],w_fit_6th_order).shape)\n",
    "print(x_val.shape)"
   ]
  },
  {
   "cell_type": "code",
   "execution_count": 355,
   "metadata": {},
   "outputs": [
    {
     "data": {
      "image/png": "[encoded data removed]",
      "text/plain": [
       "<matplotlib.figure.Figure at 0x14d0d190>"
      ]
     },
     "metadata": {},
     "output_type": "display_data"
    }
   ],
   "source": [
    "line= np.dot(poly_matrix_val[:,0:6],w_fit_5th_Order)\n",
    "#plt.plot(x_val[0:5],line[0:5],'b-',linewidth=2)\n",
    "plt.plot(x_val,line,'b-',linewidth=2)\n",
    "plt.plot(x_val,t_val,'ro')\n",
    "plt.show()"
   ]
  },
  {
   "cell_type": "code",
   "execution_count": null,
   "metadata": {
    "collapsed": true
   },
   "outputs": [],
   "source": []
  },
  {
   "cell_type": "markdown",
   "metadata": {},
   "source": [
    "# Part 3: Regularised Linear Regression"
   ]
  },
  {
   "cell_type": "markdown",
   "metadata": {},
   "source": [
    "## Ridge Regression"
   ]
  },
  {
   "cell_type": "markdown",
   "metadata": {},
   "source": [
    "In Regularised Linear Regression we penalise the values of the weights. This makes sense because if some weights take on too large numbers then that would mean that a small change in our data has massive consequences."
   ]
  },
  {
   "cell_type": "markdown",
   "metadata": {},
   "source": [
    "The simplest form of regularisation is **Ridge Regression** also known as **L2 Regression**:"
   ]
  },
  {
   "cell_type": "markdown",
   "metadata": {},
   "source": [
    "$$ \\mathbf{L}_R = \\frac{1}{N} \\sum_{n=1}^N \\mathbf{L_n}(y_n,f(x_n; w_0,w_1)) + \\lambda \\sum_{j=1}^M w_j^2 $$"
   ]
  },
  {
   "cell_type": "markdown",
   "metadata": {},
   "source": [
    "Here, we penalise large weights by squaring them.  The parameter lambda oversees how much we take the regularisation into account. Chosen wisely, it will prevent overfitting but choosen badly it might go so far as to underfit the data."
   ]
  },
  {
   "cell_type": "markdown",
   "metadata": {},
   "source": [
    "Take, for example, the 6th order polynomial that we learned earlier. We know that this is a model that overfits the data. So let's try to regularise it. Luckily, we don't have to train this ourselves: "
   ]
  },
  {
   "cell_type": "code",
   "execution_count": 356,
   "metadata": {
    "collapsed": true
   },
   "outputs": [],
   "source": [
    "from sklearn import linear_model\n",
    "\n",
    "def ridgeReg(l,X,y):\n",
    "    ridge_reg = linear_model.Ridge (alpha = l)\n",
    "    ridge_reg.fit(X,y) \n",
    "    ridge_weights=ridge_reg.coef_\n",
    "    ridge_bias=ridge_reg.intercept_\n",
    "    ridge_weight_vec= np.append(ridge_bias,ridge_weights)\n",
    "    return(ridge_reg, ridge_weight_vec)\n",
    "    #Ridge(alpha=0.5, copy_X=True, fit_intercept=True, max_iter=None,\n",
    "          #normalize=False, random_state=None, solver='auto', tol=0.001)"
   ]
  },
  {
   "cell_type": "code",
   "execution_count": 357,
   "metadata": {
    "collapsed": true
   },
   "outputs": [],
   "source": [
    "regression_object01,weights01=ridgeReg(0.1,matrix[:,1:7],t)\n",
    "regression_object05,weights05=ridgeReg(0.8,matrix[:,1:7],t)\n",
    "regression_object001,weights001=ridgeReg(0.01,matrix[:,1:7],t)"
   ]
  },
  {
   "cell_type": "code",
   "execution_count": 360,
   "metadata": {},
   "outputs": [
    {
     "data": {
      "image/png": "[encoded data removed]",
      "text/plain": [
       "<matplotlib.figure.Figure at 0x14b3a230>"
      ]
     },
     "metadata": {},
     "output_type": "display_data"
    },
    {
     "data": {
      "image/png": "[encoded data removed]",
      "text/plain": [
       "<matplotlib.figure.Figure at 0x14d1a290>"
      ]
     },
     "metadata": {},
     "output_type": "display_data"
    },
    {
     "data": {
      "image/png": "[encoded data removed]",
      "text/plain": [
       "<matplotlib.figure.Figure at 0x14ca9210>"
      ]
     },
     "metadata": {},
     "output_type": "display_data"
    },
    {
     "data": {
      "image/png": "[encoded data removed]",
      "text/plain": [
       "<matplotlib.figure.Figure at 0x120299f0>"
      ]
     },
     "metadata": {},
     "output_type": "display_data"
    }
   ],
   "source": [
    "#plot this on the training set\n",
    "#show the fit\n",
    "line= np.dot(matrix[:,0:7],w_fit_6th_order)\n",
    "plt.plot(x,line,'b-',linewidth=2)\n",
    "plt.plot(x,t,'ro')\n",
    "plt.show()\n",
    "line= np.dot(matrix[:,0:7],weights001)\n",
    "plt.plot(x,line,'b-',linewidth=2)\n",
    "plt.plot(x,t,'ro')\n",
    "plt.show()\n",
    "line= np.dot(matrix[:,0:7],weights01)\n",
    "plt.plot(x,line,'b-',linewidth=2)\n",
    "plt.plot(x,t,'ro')\n",
    "plt.show()\n",
    "line= np.dot(matrix[:,0:7],weights05)\n",
    "plt.plot(x,line,'b-',linewidth=2)\n",
    "plt.plot(x,t,'ro')\n",
    "plt.show()"
   ]
  },
  {
   "cell_type": "code",
   "execution_count": 361,
   "metadata": {},
   "outputs": [
    {
     "data": {
      "image/png": "[encoded data removed]",
      "text/plain": [
       "<matplotlib.figure.Figure at 0x1225f850>"
      ]
     },
     "metadata": {},
     "output_type": "display_data"
    },
    {
     "data": {
      "image/png": "[encoded data removed]",
      "text/plain": [
       "<matplotlib.figure.Figure at 0x14c736d0>"
      ]
     },
     "metadata": {},
     "output_type": "display_data"
    },
    {
     "data": {
      "image/png": "[encoded data removed]",
      "text/plain": [
       "<matplotlib.figure.Figure at 0x13983c10>"
      ]
     },
     "metadata": {},
     "output_type": "display_data"
    },
    {
     "data": {
      "image/png": "[encoded data removed]",
      "text/plain": [
       "<matplotlib.figure.Figure at 0x14e54950>"
      ]
     },
     "metadata": {},
     "output_type": "display_data"
    }
   ],
   "source": [
    "#plot this on the validation set\n",
    "line= np.dot(poly_matrix_val[:,0:7],w_fit_6th_order)\n",
    "plt.plot(x_val,line,'b-',linewidth=2)\n",
    "plt.plot(x_val,t_val,'ro')\n",
    "plt.show()\n",
    "line= np.dot(poly_matrix_val[:,0:7],weights001)\n",
    "plt.plot(x_val,line,'b-',linewidth=2)\n",
    "plt.plot(x_val,t_val,'ro')\n",
    "plt.show()\n",
    "line= np.dot(poly_matrix_val[:,0:7],weights01)\n",
    "plt.plot(x_val,line,'b-',linewidth=2)\n",
    "plt.plot(x_val,t_val,'ro')\n",
    "plt.show()\n",
    "line= np.dot(poly_matrix_val[:,0:7],weights05)\n",
    "plt.plot(x_val,line,'b-',linewidth=2)\n",
    "plt.plot(x_val,t_val,'ro')\n",
    "plt.show()\n"
   ]
  },
  {
   "cell_type": "code",
   "execution_count": 362,
   "metadata": {},
   "outputs": [
    {
     "name": "stdout",
     "output_type": "stream",
     "text": [
      "0.8968714745929043\n",
      "0.9007557775319598\n",
      "0.9015198214012368\n"
     ]
    }
   ],
   "source": [
    "#calculate Loss\n",
    "print(regression_object001.score(poly_matrix_val[:,1:7],t_val))\n",
    "print(regression_object01.score(poly_matrix_val[:,1:7],t_val))\n",
    "print(regression_object05.score(poly_matrix_val[:,1:7],t_val))"
   ]
  },
  {
   "cell_type": "markdown",
   "metadata": {},
   "source": [
    "We can see here that the score is not that different and that the smallest lambda actually gives us the best fit. While it might not make a huge difference here, regularisation is a technique that is wildly applicable and we will later on in the course see examples where it will make a huge difference."
   ]
  },
  {
   "cell_type": "markdown",
   "metadata": {},
   "source": [
    "### Good to know: Lasso Regression"
   ]
  },
  {
   "cell_type": "markdown",
   "metadata": {},
   "source": [
    "Another form that you might have come across is L1 or Lasso Regression. There, instead of looking at the squared values we look at the overall magnitude that is:"
   ]
  },
  {
   "cell_type": "markdown",
   "metadata": {},
   "source": [
    "$$ \\mathbf{L}_L = \\frac{1}{N} \\sum_{n=1}^N \\mathbf{L_n}(y_n,f(x_n; w_0,w_1)) + \\lambda \\sum_{j=1}^M |w_j| $$"
   ]
  },
  {
   "cell_type": "markdown",
   "metadata": {},
   "source": [
    "This calculation encourages weights to go to 0. This encourages sparsity so that we don't have to calculate everything for all parameters but some columns will simply be 0. It is again regulated by the parameter lambda."
   ]
  },
  {
   "cell_type": "markdown",
   "metadata": {},
   "source": [
    "The code looks very similar to the previous regularisation technique:"
   ]
  },
  {
   "cell_type": "code",
   "execution_count": 363,
   "metadata": {
    "collapsed": true
   },
   "outputs": [],
   "source": [
    "\n",
    "def lassoReg(l,X,y):\n",
    "    lasso_reg = linear_model.Lasso (alpha = l)\n",
    "    lasso_reg.fit(X,y) \n",
    "    lasso_weights=ridge_reg.coef_\n",
    "    lasso_bias=ridge_reg.intercept_\n",
    "    lasso_weight_vec= np.append(lasso_bias,lasso_weights)\n",
    "    return(lasso_reg, lasso_weight_vec)\n"
   ]
  },
  {
   "cell_type": "code",
   "execution_count": 366,
   "metadata": {},
   "outputs": [
    {
     "name": "stdout",
     "output_type": "stream",
     "text": [
      "[ 7.68690019e+00 -2.74263661e+01  2.11650030e+01 -2.77799796e+00\n",
      " -2.23974482e-01  7.59240684e-02 -4.13077805e-03]\n"
     ]
    },
    {
     "name": "stderr",
     "output_type": "stream",
     "text": [
      "c:\\users\\steffi\\appdata\\local\\programs\\python\\python36-32\\lib\\site-packages\\sklearn\\linear_model\\coordinate_descent.py:491: ConvergenceWarning: Objective did not converge. You might want to increase the number of iterations. Fitting data with very small alpha may cause precision problems.\n",
      "  ConvergenceWarning)\n"
     ]
    }
   ],
   "source": [
    "reg_obj,lasso_weights=lassoReg(0.5,matrix[:,1:7],t)\n",
    "print(lasso_weights)"
   ]
  },
  {
   "cell_type": "markdown",
   "metadata": {},
   "source": [
    "If we now look at the weights we can see that the weight increasinlgy goes to 0 for the higher orders, especially the 6th order.  This sply underlines our above findings that a 6th order is not needed to approximate the problem accurately."
   ]
  },
  {
   "cell_type": "markdown",
   "metadata": {},
   "source": [
    "# Exercises"
   ]
  },
  {
   "cell_type": "markdown",
   "metadata": {},
   "source": [
    "In the following exercises you will learn to fit a polynomial linear regression model and use regularisation."
   ]
  },
  {
   "cell_type": "markdown",
   "metadata": {},
   "source": [
    "1) Load the data from TODO PRESENT LINK  and import it to python."
   ]
  },
  {
   "cell_type": "markdown",
   "metadata": {},
   "source": [
    "2) Split the data into train, validation and test set. Use the raios that were provided last time.x"
   ]
  },
  {
   "cell_type": "markdown",
   "metadata": {},
   "source": [
    "3) Visualise the data in the training set."
   ]
  },
  {
   "cell_type": "markdown",
   "metadata": {},
   "source": [
    "4) Augment the x_values of each set up to the 10th order. That is, create a matrix where the first column is the bias (all 1s), the second column is x, the third x^2 up until x^10"
   ]
  },
  {
   "cell_type": "markdown",
   "metadata": {},
   "source": [
    "5) Train  linear regresion models **for each** order"
   ]
  },
  {
   "cell_type": "markdown",
   "metadata": {},
   "source": [
    "6) Use the validation set to find the best order"
   ]
  },
  {
   "cell_type": "markdown",
   "metadata": {},
   "source": [
    "7) Visualise your findings."
   ]
  },
  {
   "cell_type": "markdown",
   "metadata": {},
   "source": [
    "8) (optional) Take the model for the 10th order and perform regularisation on it. You can choose to use Lasso or Ridge Regression and play around with the parameter lambda. What is the best score you can achieve?"
   ]
  },
  {
   "cell_type": "code",
   "execution_count": null,
   "metadata": {
    "collapsed": true
   },
   "outputs": [],
   "source": []
  }
 ],
 "metadata": {
  "kernelspec": {
   "display_name": "Python 3",
   "language": "python",
   "name": "python3"
  },
  "language_info": {
   "codemirror_mode": {
    "name": "ipython",
    "version": 3
   },
   "file_extension": ".py",
   "mimetype": "text/x-python",
   "name": "python",
   "nbconvert_exporter": "python",
   "pygments_lexer": "ipython3",
   "version": "3.5.5"
  }
 },
 "nbformat": 4,
 "nbformat_minor": 1
}
